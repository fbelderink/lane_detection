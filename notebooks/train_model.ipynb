{
  "cells": [
    {
      "cell_type": "code",
      "id": "Jk0bP68WhKj6",
      "metadata": {
        "colab": {
          "base_uri": "https://localhost:8080/"
        },
        "id": "Jk0bP68WhKj6",
        "outputId": "16c5f241-e380-4d91-b93c-8b60ed78c9e7",
        "ExecuteTime": {
          "end_time": "2024-04-14T19:24:27.845966Z",
          "start_time": "2024-04-14T19:24:27.834156Z"
        }
      },
      "source": [
        "import os\n",
        "import json\n",
        "\n",
        "IN_COLAB = \"google.colab\" in str(get_ipython())\n",
        "if IN_COLAB:\n",
        "  #load git project\n",
        "  if not os.path.isdir('/content/lane_detection'):\n",
        "    !git clone https://github.com/fbelderink/lane_detection.git\n",
        "  %cd /content/lane_detection\n",
        "  #load kaggle\n",
        "  !mkdir -p ~/.kaggle\n",
        "\n",
        "  from google.colab import userdata\n",
        "\n",
        "  kaggle_user = userdata.get(\"kaggle_username\")\n",
        "  kaggle_key = userdata.get(\"kaggle_key\")\n",
        "  kaggle_file_content = {\n",
        "      \"username\": kaggle_user,\n",
        "      \"key\": kaggle_key\n",
        "  }\n",
        "\n",
        "  with open('kaggle.json','w') as fp:\n",
        "    json.dump(kaggle_file_content, fp)\n",
        "\n",
        "  !mv kaggle.json ~/.kaggle/\n",
        "  !chmod 600 ~/.kaggle/kaggle.json"
      ],
      "outputs": [
        {
          "output_type": "stream",
          "name": "stdout",
          "text": [
            "/content/lane_detection\n"
          ]
        }
      ],
      "execution_count": 7
    },
    {
      "cell_type": "code",
      "id": "ZcqnI-y5mVQc",
      "metadata": {
        "colab": {
          "base_uri": "https://localhost:8080/"
        },
        "id": "ZcqnI-y5mVQc",
        "outputId": "dc6f5065-e4f0-4852-c8b4-4b76775c904f",
        "ExecuteTime": {
          "end_time": "2024-04-14T19:25:03.741800Z",
          "start_time": "2024-04-14T19:24:45.790331Z"
        }
      },
      "source": [
        "from data.manipulate_data import download_dataset, transform_dataset\n",
        "from google.colab import drive\n",
        "\n",
        "drive_dir = '/content/drive'\n",
        "tusimple_dir = 'data/tusimple'\n",
        "train_dir = os.path.join(tusimple_dir, 'TUSimple/train_set')\n",
        "dataset_dir = os.path.join(drive_dir,'MyDrive/data/lane_detection')\n",
        "\n",
        "drive.mount(drive_dir)\n",
        "#check if dataset is stored in drive\n",
        "if not os.listdir(dataset_dir):\n",
        "  download_dataset(target_dir=tusimple_dir)\n",
        "  transform_dataset(train_dir, \"data/train_set\")\n",
        "  #save dataset\n",
        "  !(cd data/train_set && zip -r {dataset_dir}/train_set.zip .)\n",
        "  !rm -rf {tusimple_dir}\n",
        "else:\n",
        "  #unzip from drive\n",
        "  !unzip -n {dataset_dir}/train_set.zip -d data/train_set\n"
      ],
      "outputs": [
        {
          "output_type": "stream",
          "name": "stdout",
          "text": [
            "Drive already mounted at /content/drive; to attempt to forcibly remount, call drive.mount(\"/content/drive\", force_remount=True).\n",
            "Archive:  /content/drive/MyDrive/data/lane_detection/train_set.zip\n"
          ]
        }
      ],
      "execution_count": 20
    },
    {
      "cell_type": "code",
      "execution_count": null,
      "id": "8dd3d3d8",
      "metadata": {
        "colab": {
          "base_uri": "https://localhost:8080/"
        },
        "id": "8dd3d3d8",
        "outputId": "4897f0b7-921f-4392-c7e5-7365d5f7e85b"
      },
      "outputs": [
        {
          "data": {
            "text/plain": [
              "False"
            ]
          },
          "execution_count": 38,
          "metadata": {},
          "output_type": "execute_result"
        }
      ],
      "source": [
        "import torch\n",
        "import os\n",
        "torch.cuda.is_available()"
      ]
    }
  ],
  "metadata": {
    "colab": {
      "provenance": []
    },
    "kernelspec": {
      "display_name": "Python 3 (ipykernel)",
      "language": "python",
      "name": "python3"
    },
    "language_info": {
      "codemirror_mode": {
        "name": "ipython",
        "version": 3
      },
      "file_extension": ".py",
      "mimetype": "text/x-python",
      "name": "python",
      "nbconvert_exporter": "python",
      "pygments_lexer": "ipython3",
      "version": "3.10.12"
    }
  },
  "nbformat": 4,
  "nbformat_minor": 5
}