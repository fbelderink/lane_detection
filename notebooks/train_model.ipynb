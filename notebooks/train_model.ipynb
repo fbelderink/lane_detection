{
 "cells": [
  {
   "cell_type": "code",
   "id": "8dd3d3d8",
   "metadata": {
    "colab": {
     "base_uri": "https://localhost:8080/"
    },
    "id": "8dd3d3d8",
    "outputId": "4897f0b7-921f-4392-c7e5-7365d5f7e85b",
    "ExecuteTime": {
     "end_time": "2024-04-25T23:14:19.808920Z",
     "start_time": "2024-04-25T23:14:19.753072Z"
    }
   },
   "source": [
    "import torch\n",
    "from torch.utils.data import DataLoader\n",
    "from torch.utils.tensorboard import SummaryWriter\n",
    "\n",
    "from data.dataset import LaneDataset\n",
    "from models.lanenet.lanenet import LaneNet\n",
    "\n",
    "from common.utils import get_project_root\n",
    "import os"
   ],
   "outputs": [],
   "execution_count": 31
  },
  {
   "cell_type": "code",
   "id": "e4395a7d8ad3e31a",
   "metadata": {
    "ExecuteTime": {
     "end_time": "2024-04-25T23:14:21.672491Z",
     "start_time": "2024-04-25T23:14:21.667746Z"
    }
   },
   "source": [
    "DEVICE = torch.device(\"cuda:0\" if torch.cuda.is_available() else \"cpu\")\n",
    "print(f\"training on {DEVICE}\")"
   ],
   "outputs": [
    {
     "name": "stdout",
     "output_type": "stream",
     "text": [
      "training on cpu\n"
     ]
    }
   ],
   "execution_count": 32
  },
  {
   "metadata": {
    "ExecuteTime": {
     "end_time": "2024-04-25T23:14:22.958920Z",
     "start_time": "2024-04-25T23:14:22.953672Z"
    }
   },
   "cell_type": "code",
   "source": [
    "root = get_project_root()\n",
    "train_path = os.path.join(root, \"data\", \"train_set_example\")\n",
    "\n",
    "log_dir = os.path.join(root, \"experiments/exp0\")\n",
    "writer = SummaryWriter(log_dir=log_dir)\n",
    "\n",
    "training_data = LaneDataset(train_path)\n",
    "train_dataloader = DataLoader(training_data, batch_size=8, shuffle=True)"
   ],
   "id": "801f38a761864e87",
   "outputs": [],
   "execution_count": 33
  },
  {
   "cell_type": "code",
   "id": "3c27ae5d6b819434",
   "metadata": {
    "ExecuteTime": {
     "end_time": "2024-04-25T23:14:25.824923Z",
     "start_time": "2024-04-25T23:14:25.371535Z"
    }
   },
   "source": [
    "epochs = 1\n",
    "model = LaneNet([3, 16, 64, 128, 64, 16], 4).to(DEVICE)\n",
    "optimizer = torch.optim.Adam(model.parameters(), lr=1e-4)\n",
    "\n",
    "for e in range(epochs):\n",
    "    print(f\"epoch {e+1}/{epochs}\")\n",
    "    total_loss = 0.0\n",
    "    total_seg_loss = 0.0\n",
    "    total_inst_loss = 0.0\n",
    "    \n",
    "    for idx, batch in enumerate(train_dataloader):\n",
    "        img, bin_label, inst_label = batch\n",
    "        \n",
    "        img = img.to(DEVICE)\n",
    "        bin_label = bin_label.to(DEVICE)\n",
    "        inst_label = inst_label.to(DEVICE)\n",
    "        \n",
    "        optimizer.zero_grad()\n",
    "        bin_pred, inst_pred = model(img)\n",
    "        \n",
    "        loss, seg_loss, inst_loss = model.compute_loss((bin_pred, inst_pred), (bin_label, inst_label))\n",
    "        loss.backward()\n",
    "        optimizer.step()\n",
    "        \n",
    "        \n",
    "        total_loss += loss.item()\n",
    "        total_seg_loss += seg_loss.item()\n",
    "        total_inst_loss += inst_loss.item()\n",
    "        writer.add_scalar(\"loss\", total_loss, e)\n",
    "        writer.add_scalar(\"seg_loss\", total_seg_loss, e)\n",
    "        writer.add_scalar(\"inst_loss\", total_inst_loss, e)\n",
    "\n",
    "writer.flush()\n",
    "writer.close()\n",
    "    \n",
    "    "
   ],
   "outputs": [
    {
     "name": "stdout",
     "output_type": "stream",
     "text": [
      "epoch 1/1\n"
     ]
    },
    {
     "ename": "ValueError",
     "evalue": "not enough values to unpack (expected 3, got 2)",
     "output_type": "error",
     "traceback": [
      "\u001B[0;31m---------------------------------------------------------------------------\u001B[0m",
      "\u001B[0;31mValueError\u001B[0m                                Traceback (most recent call last)",
      "Cell \u001B[0;32mIn[34], line 21\u001B[0m\n\u001B[1;32m     18\u001B[0m optimizer\u001B[38;5;241m.\u001B[39mzero_grad()\n\u001B[1;32m     19\u001B[0m bin_pred, inst_pred \u001B[38;5;241m=\u001B[39m model(img)\n\u001B[0;32m---> 21\u001B[0m loss, seg_loss, inst_loss \u001B[38;5;241m=\u001B[39m model\u001B[38;5;241m.\u001B[39mcompute_loss((bin_pred, inst_pred), (bin_label, inst_label))\n\u001B[1;32m     22\u001B[0m loss\u001B[38;5;241m.\u001B[39mbackward()\n\u001B[1;32m     23\u001B[0m optimizer\u001B[38;5;241m.\u001B[39mstep()\n",
      "\u001B[0;31mValueError\u001B[0m: not enough values to unpack (expected 3, got 2)"
     ]
    }
   ],
   "execution_count": 34
  }
 ],
 "metadata": {
  "colab": {
   "provenance": []
  },
  "kernelspec": {
   "display_name": "Python 3 (ipykernel)",
   "language": "python",
   "name": "python3"
  },
  "language_info": {
   "codemirror_mode": {
    "name": "ipython",
    "version": 3
   },
   "file_extension": ".py",
   "mimetype": "text/x-python",
   "name": "python",
   "nbconvert_exporter": "python",
   "pygments_lexer": "ipython3",
   "version": "3.10.12"
  }
 },
 "nbformat": 4,
 "nbformat_minor": 5
}
