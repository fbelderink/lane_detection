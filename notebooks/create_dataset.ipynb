{
 "cells": [
  {
   "cell_type": "code",
   "id": "initial_id",
   "metadata": {
    "collapsed": true,
    "jupyter": {
     "outputs_hidden": true
    },
    "ExecuteTime": {
     "end_time": "2024-04-20T10:52:29.782918Z",
     "start_time": "2024-04-20T10:52:29.774880Z"
    }
   },
   "source": [
    "import os\n",
    "import json\n",
    "\n",
    "IN_COLAB = \"google.colab\" in str(get_ipython())\n",
    "if IN_COLAB:\n",
    "  #load git project\n",
    "  if not os.path.isdir('/content/lane_detection'):\n",
    "    !git clone https://github.com/fbelderink/lane_detection.git\n",
    "  %cd /content/lane_detection\n",
    "  #load kaggle\n",
    "  !mkdir -p ~/.kaggle\n",
    "\n",
    "  from google.colab import userdata\n",
    "\n",
    "  kaggle_user = userdata.get(\"kaggle_username\")\n",
    "  kaggle_key = userdata.get(\"kaggle_key\")\n",
    "  kaggle_file_content = {\n",
    "      \"username\": kaggle_user,\n",
    "      \"key\": kaggle_key\n",
    "  }\n",
    "\n",
    "  with open('kaggle.json','w') as fp:\n",
    "    json.dump(kaggle_file_content, fp)\n",
    "\n",
    "  !mv kaggle.json ~/.kaggle/\n",
    "  !chmod 600 ~/.kaggle/kaggle.json"
   ],
   "outputs": [],
   "execution_count": 1
  },
  {
   "cell_type": "code",
   "execution_count": null,
   "id": "fa66c769-624e-4dba-884d-7a1ed8027895",
   "metadata": {},
   "outputs": [],
   "source": [
    "from data.manipulate_data import download_dataset, transform_dataset\n",
    "\n",
    "drive_dir = '/content/drive'\n",
    "tusimple_dir = 'data/tusimple'\n",
    "train_dir = os.path.join(tusimple_dir, 'TUSimple/train_set')\n",
    "dataset_dir = os.path.join(drive_dir,'MyDrive/data/lane_detection')\n",
    "\n",
    "if IN_COLAB:\n",
    "  from google.colab import drive\n",
    "  drive.mount(drive_dir)\n",
    "#check if dataset is stored in drive\n",
    "if not IN_COLAB or not os.listdir(dataset_dir):\n",
    "  download_dataset(target_dir=tusimple_dir)\n",
    "  transform_dataset(train_dir, \"data/train_set\", \"train.txt\")\n",
    "  #save dataset\n",
    "  !(cd data/train_set && zip -r {dataset_dir}/train_set.zip .)\n",
    "  !rm -rf {tusimple_dir}\n",
    "else:\n",
    "  #unzip from drive\n",
    "  !unzip -n {dataset_dir}/train_set.zip -d data/train_set"
   ]
  }
 ],
 "metadata": {
  "kernelspec": {
   "display_name": "Python 3 (ipykernel)",
   "language": "python",
   "name": "python3"
  },
  "language_info": {
   "codemirror_mode": {
    "name": "ipython",
    "version": 3
   },
   "file_extension": ".py",
   "mimetype": "text/x-python",
   "name": "python",
   "nbconvert_exporter": "python",
   "pygments_lexer": "ipython3",
   "version": "3.10.12"
  }
 },
 "nbformat": 4,
 "nbformat_minor": 5
}
